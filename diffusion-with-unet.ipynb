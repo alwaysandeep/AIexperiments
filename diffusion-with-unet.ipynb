{
 "cells": [
  {
   "cell_type": "markdown",
   "id": "e8146153-885b-41db-ba72-524c415a81f1",
   "metadata": {},
   "source": [
    "Since diffusion-basics.ipynb became too long, starting afresh in this notebook\n",
    "\n",
    "And trying U-net architecture again (as per Tejas' advice)"
   ]
  },
  {
   "cell_type": "code",
   "execution_count": 1,
   "id": "527f3709-bd8d-43e6-8076-33b9bf162aa8",
   "metadata": {},
   "outputs": [
    {
     "name": "stderr",
     "output_type": "stream",
     "text": [
      "/Users/paraschopra/opt/anaconda3/envs/pyautogen/lib/python3.10/site-packages/tqdm/auto.py:21: TqdmWarning: IProgress not found. Please update jupyter and ipywidgets. See https://ipywidgets.readthedocs.io/en/stable/user_install.html\n",
      "  from .autonotebook import tqdm as notebook_tqdm\n",
      "/Users/paraschopra/opt/anaconda3/envs/pyautogen/lib/python3.10/site-packages/diffusers/models/transformers/transformer_2d.py:34: FutureWarning: `Transformer2DModelOutput` is deprecated and will be removed in version 1.0.0. Importing `Transformer2DModelOutput` from `diffusers.models.transformer_2d` is deprecated and this will be removed in a future version. Please use `from diffusers.models.modeling_outputs import Transformer2DModelOutput`, instead.\n",
      "  deprecate(\"Transformer2DModelOutput\", \"1.0.0\", deprecation_message)\n"
     ]
    }
   ],
   "source": [
    "import torch\n",
    "import torch.nn as nn\n",
    "import torch.optim as optim\n",
    "from torchvision import datasets\n",
    "import torchvision.transforms as transforms\n",
    "from torchvision.transforms import functional as F\n",
    "from diffusers import UNet2DModel\n",
    "import matplotlib as plt"
   ]
  },
  {
   "cell_type": "code",
   "execution_count": 27,
   "id": "31c21cd2-85a6-4935-ba0f-384384941696",
   "metadata": {},
   "outputs": [],
   "source": [
    "import wandb\n",
    "# start a new wandb run to track this script\n"
   ]
  },
  {
   "cell_type": "code",
   "execution_count": 5,
   "id": "ad317101-6036-409e-8be4-b8eba5be1cf8",
   "metadata": {},
   "outputs": [],
   "source": [
    "device = torch.device(\"mps\" if torch.backends.mps.is_available() else \"cpu\")"
   ]
  },
  {
   "cell_type": "code",
   "execution_count": 6,
   "id": "b12e649b-3566-44ae-b9b7-9ecd2e4692fa",
   "metadata": {},
   "outputs": [],
   "source": [
    "class DiffusionModel(nn.Module):\n",
    "    def __init__(self, img_size, num_classes=10, class_emb_size=4):\n",
    "        super().__init__()\n",
    "\n",
    "        # The embedding layer will map the class label to a vector of size class_emb_size \n",
    "        self.class_emb = nn.Embedding(num_classes, class_emb_size)\n",
    "\n",
    "        self.model = UNet2DModel(\n",
    "            sample_size=img_size,            # the target image resolution\n",
    "            in_channels=1 + class_emb_size,  # Additional input channels to accept the conditioning information (the class)\n",
    "            out_channels=1,            # the number of output channels\n",
    "            layers_per_block=2,        # how many ResNet layers to use per UNet block\n",
    "            block_out_channels=(32, 64, 64),  \n",
    "            down_block_types=(\n",
    "                \"DownBlock2D\",          # a regular ResNet downsampling block\n",
    "                \"AttnDownBlock2D\",      # a ResNet downsampling block with spatial self-attention\n",
    "                \"AttnDownBlock2D\",\n",
    "            ),\n",
    "            up_block_types=(\n",
    "                \"AttnUpBlock2D\",        # a ResNet upsampling block with spatial self-attention\n",
    "                \"AttnUpBlock2D\",\n",
    "                \"UpBlock2D\",            # a regular ResNet upsampling block\n",
    "            ),\n",
    "        )\n",
    "\n",
    "    # Our forward method now takes the class labels as an additional argument\n",
    "    def forward(self, x, t, class_label):\n",
    "        # Shape of x:\n",
    "        bs, ch, w, h = x.shape\n",
    "    \n",
    "        # class conditioning is right shape to add as additional input channel\n",
    "        class_cond = self.class_emb(class_label).view(bs, self.class_emb.embedding_dim, 1, 1)\n",
    "        class_cond = class_cond.expand(bs, self.class_emb.embedding_dim, w, h)\n",
    "        # x is shape (bs, 1, 28, 28) and class_cond is now (bs, 4, 28, 28)\n",
    "    \n",
    "        # Net input is now x and class cond concatenated together along dimension 1\n",
    "        net_input = torch.cat((x, class_cond), 1) # (bs, 5, 28, 28)\n",
    "    \n",
    "        # Feed the UNet with net_input, time step t, and return the prediction\n",
    "        return self.model(net_input, t).sample # (bs, 1, 28, 28)"
   ]
  },
  {
   "cell_type": "code",
   "execution_count": 14,
   "id": "ed383d39-2bd2-4f6d-afda-c3d9e65cafba",
   "metadata": {},
   "outputs": [],
   "source": [
    "import random\n",
    "import matplotlib.pyplot as plt\n",
    "\n",
    "def sample_image_multiple(num_samples=1):\n",
    "    with torch.no_grad():\n",
    "        # Generate initial pure Gaussian noise\n",
    "        x = torch.randn(num_samples, 1, 28, 28).to(device)\n",
    "        y = torch.randint(0, 10, (num_samples,)).to(device)  # Generate random target labels\n",
    "        \n",
    "        for t in range(len(alpha_bar) - 1, -1, -1):\n",
    "            z = torch.randn(num_samples, 1, 28, 28).to(device) if t > 0 else 0\n",
    "            alpha_t = alpha[t]\n",
    "            alpha_bar_t = alpha_bar[t]\n",
    "            beta_t = beta[t]\n",
    "            #alpha_t_prev = alpha_bar[t - 1] if t > 0 else 1\n",
    "            \n",
    "            predicted_noise = model(x, torch.tensor([t]).expand(num_samples).to(device), y)\n",
    "            \n",
    "            x = (1 / torch.sqrt(alpha_t)) * (x - (beta_t / torch.sqrt(1 - alpha_bar_t)) * predicted_noise) + torch.sqrt(beta_t) * z\n",
    "        \n",
    "        generated_samples = x.cpu().squeeze().numpy()\n",
    "    \n",
    "    fig, axs = plt.subplots(1, num_samples, figsize=(num_samples * 2, 2))\n",
    "    \n",
    "    for i in range(num_samples):\n",
    "        if num_samples == 1:\n",
    "            axs.imshow(generated_samples[i], cmap=\"gray\")\n",
    "            axs.set_title(f\"Digit: {y[i].item()}\")\n",
    "            axs.axis(\"off\")\n",
    "        else:\n",
    "            axs[i].imshow(generated_samples[i], cmap=\"gray\")\n",
    "            axs[i].set_title(f\"Digit: {y[i].item()}\")\n",
    "            axs[i].axis(\"off\")\n",
    "    \n",
    "    plt.tight_layout()\n",
    "    plt.show()"
   ]
  },
  {
   "cell_type": "code",
   "execution_count": null,
   "id": "85498919-cb72-45fd-aae7-a404a0a66efc",
   "metadata": {},
   "outputs": [],
   "source": []
  },
  {
   "cell_type": "code",
   "execution_count": 19,
   "id": "ee8f3707-a053-4e22-b4ec-495626d48d42",
   "metadata": {},
   "outputs": [],
   "source": [
    "def train(epochs=100):\n",
    "    running_loss = 0.0\n",
    "    for epoch in range(epochs):\n",
    "        i = 0\n",
    "        for data, labels in trainloader:\n",
    "            data, labels = data.to(device), labels.to(device)\n",
    "            \n",
    "            optimizer.zero_grad()\n",
    "            \n",
    "            # Randomly generate timesteps for each example in the batch\n",
    "            t = torch.randint(0, num_steps, (data.shape[0],), device=device)\n",
    "            \n",
    "            # Retrieve the corresponding alpha_bar_t values for each example in the batch\n",
    "            alpha_bar_t = alpha_bar[t]\n",
    "            \n",
    "            # Generate random noise (mean 0, sd 1) tensor with the same shape as input data\n",
    "            noise = torch.randn_like(data)\n",
    "            \n",
    "            # Calculate the noisy data using the reparameterization trick\n",
    "            noisy_data = torch.sqrt(alpha_bar_t).view(-1, 1, 1, 1) * data + torch.sqrt(1 - alpha_bar_t).view(-1, 1, 1, 1) * noise\n",
    "            \n",
    "            predicted_noise = model(noisy_data, t, labels)\n",
    "            loss = criterion(predicted_noise, noisy_data - data)\n",
    "            \n",
    "            loss.backward()\n",
    "            optimizer.step()\n",
    "\n",
    "            running_loss += loss.item()\n",
    "            \n",
    "            if (i % 100) == 0:\n",
    "                print(f\"Epoch [{epoch+1}/1000], i: {i}, Loss: {loss.item():.4f}, Running loss: {running_loss/100}\")\n",
    "                wandb.log({\"latest_loss\": loss.item(), \"avg_running_loss\": running_loss / 100}, step=epoch * len(trainloader) + i)\n",
    "                running_loss = 0.0\n",
    "            \n",
    "            i += 1\n",
    "        \n",
    "        if epoch % 5 == 0:\n",
    "            sample_image_multiple(num_samples=4)\n",
    "\n",
    "    wandb.finish()"
   ]
  },
  {
   "cell_type": "code",
   "execution_count": 20,
   "id": "afb26910-ebb1-4751-a2bb-8a317c0d2f2a",
   "metadata": {},
   "outputs": [],
   "source": [
    "num_steps = 200\n",
    "beta_start = 0.0001\n",
    "beta_end = 0.02\n",
    "# Generate the beta values linearly from beta_start to beta_end\n",
    "beta = torch.linspace(beta_start, beta_end, num_steps).to(device)\n",
    "alpha = 1 - beta\n",
    "# Pre-calculate alpha_bar_t for all timesteps\n",
    "alpha_bar = torch.cumprod(alpha, dim=0)"
   ]
  },
  {
   "cell_type": "code",
   "execution_count": 29,
   "id": "0701ae07-2ec1-4910-8fe1-71ef734fbac9",
   "metadata": {},
   "outputs": [
    {
     "data": {
      "text/html": [
       "Finishing last run (ID:hsy6xfjc) before initializing another..."
      ],
      "text/plain": [
       "<IPython.core.display.HTML object>"
      ]
     },
     "metadata": {},
     "output_type": "display_data"
    },
    {
     "data": {
      "text/html": [
       "W&B sync reduced upload amount by 23.2%             "
      ],
      "text/plain": [
       "<IPython.core.display.HTML object>"
      ]
     },
     "metadata": {},
     "output_type": "display_data"
    },
    {
     "data": {
      "text/html": [
       " View run <strong style=\"color:#cdcd00\">dutiful-mountain-2</strong> at: <a href='https://wandb.ai/invertedpassion/diffusion-with-unet/runs/hsy6xfjc' target=\"_blank\">https://wandb.ai/invertedpassion/diffusion-with-unet/runs/hsy6xfjc</a><br/> View project at: <a href='https://wandb.ai/invertedpassion/diffusion-with-unet' target=\"_blank\">https://wandb.ai/invertedpassion/diffusion-with-unet</a><br/>Synced 5 W&B file(s), 0 media file(s), 2 artifact file(s) and 0 other file(s)"
      ],
      "text/plain": [
       "<IPython.core.display.HTML object>"
      ]
     },
     "metadata": {},
     "output_type": "display_data"
    },
    {
     "data": {
      "text/html": [
       "Find logs at: <code>./wandb/run-20240613_142508-hsy6xfjc/logs</code>"
      ],
      "text/plain": [
       "<IPython.core.display.HTML object>"
      ]
     },
     "metadata": {},
     "output_type": "display_data"
    },
    {
     "data": {
      "text/html": [
       "Successfully finished last run (ID:hsy6xfjc). Initializing new run:<br/>"
      ],
      "text/plain": [
       "<IPython.core.display.HTML object>"
      ]
     },
     "metadata": {},
     "output_type": "display_data"
    },
    {
     "data": {
      "text/html": [
       "wandb version 0.17.1 is available!  To upgrade, please run:\n",
       " $ pip install wandb --upgrade"
      ],
      "text/plain": [
       "<IPython.core.display.HTML object>"
      ]
     },
     "metadata": {},
     "output_type": "display_data"
    },
    {
     "data": {
      "text/html": [
       "Tracking run with wandb version 0.17.0"
      ],
      "text/plain": [
       "<IPython.core.display.HTML object>"
      ]
     },
     "metadata": {},
     "output_type": "display_data"
    },
    {
     "data": {
      "text/html": [
       "Run data is saved locally in <code>/Users/paraschopra/Documents/Code/agicollective/wandb/run-20240613_142516-hp3vjzci</code>"
      ],
      "text/plain": [
       "<IPython.core.display.HTML object>"
      ]
     },
     "metadata": {},
     "output_type": "display_data"
    },
    {
     "data": {
      "text/html": [
       "Syncing run <strong><a href='https://wandb.ai/invertedpassion/diffusion-with-unet/runs/hp3vjzci' target=\"_blank\">amber-snowflake-3</a></strong> to <a href='https://wandb.ai/invertedpassion/diffusion-with-unet' target=\"_blank\">Weights & Biases</a> (<a href='https://wandb.me/run' target=\"_blank\">docs</a>)<br/>"
      ],
      "text/plain": [
       "<IPython.core.display.HTML object>"
      ]
     },
     "metadata": {},
     "output_type": "display_data"
    },
    {
     "data": {
      "text/html": [
       " View project at <a href='https://wandb.ai/invertedpassion/diffusion-with-unet' target=\"_blank\">https://wandb.ai/invertedpassion/diffusion-with-unet</a>"
      ],
      "text/plain": [
       "<IPython.core.display.HTML object>"
      ]
     },
     "metadata": {},
     "output_type": "display_data"
    },
    {
     "data": {
      "text/html": [
       " View run at <a href='https://wandb.ai/invertedpassion/diffusion-with-unet/runs/hp3vjzci' target=\"_blank\">https://wandb.ai/invertedpassion/diffusion-with-unet/runs/hp3vjzci</a>"
      ],
      "text/plain": [
       "<IPython.core.display.HTML object>"
      ]
     },
     "metadata": {},
     "output_type": "display_data"
    }
   ],
   "source": [
    "learning_rate = 1e-5\n",
    "epochs=100\n",
    "batch_size=128\n",
    "\n",
    "wandb.init(\n",
    "    # set the wandb project where this run will be logged\n",
    "    project=\"diffusion-with-unet\")\n",
    "\n",
    "config = {\n",
    "    \"learning_rate\": learning_rate,\n",
    "    \"epochs\": epochs,\n",
    "    \"batch_size\": batch_size,\n",
    "    \"num_steps\":num_steps,\n",
    "    \"noise_schedule\":\"linear\"\n",
    "}\n",
    "wandb.config.update(config)"
   ]
  },
  {
   "cell_type": "code",
   "execution_count": 30,
   "id": "4b9a4e01-46cb-4ed9-9f68-e32018b5c1f1",
   "metadata": {},
   "outputs": [],
   "source": [
    "class RescaleTransform(object):\n",
    "    def __init__(self, min_val, max_val):\n",
    "        self.min_val = min_val\n",
    "        self.max_val = max_val\n",
    "\n",
    "    def __call__(self, tensor):\n",
    "        return (self.max_val - self.min_val) * tensor + self.min_val # convert 0-1 range to -1 to +1 range\n",
    "\n",
    "transform = transforms.Compose([\n",
    "    transforms.ToTensor(),\n",
    "    RescaleTransform(-1, 1)\n",
    "])\n",
    "\n",
    "trainset = datasets.MNIST('data', train=True, download=True, transform=transform)\n",
    "trainloader = torch.utils.data.DataLoader(trainset, batch_size=batch_size, shuffle=True)"
   ]
  },
  {
   "cell_type": "code",
   "execution_count": 31,
   "id": "8823d17b-2387-4d22-b00b-8c9876bcee3a",
   "metadata": {},
   "outputs": [],
   "source": [
    "model = DiffusionModel(img_size=28, num_classes=10).to(device)\n",
    "optimizer = optim.Adam(model.parameters(), lr=learning_rate)\n",
    "criterion = nn.MSELoss()"
   ]
  },
  {
   "cell_type": "code",
   "execution_count": 32,
   "id": "58e0466d-bf7a-4df2-b23f-406f49bdd99e",
   "metadata": {},
   "outputs": [
    {
     "name": "stdout",
     "output_type": "stream",
     "text": [
      "Epoch [1/1000], i: 0, Loss: 0.6008, Running loss: 0.00600757896900177\n",
      "Epoch [1/1000], i: 100, Loss: 0.3079, Running loss: 0.40161909729242323\n",
      "Epoch [1/1000], i: 200, Loss: 0.2210, Running loss: 0.24328501045703887\n",
      "Epoch [1/1000], i: 300, Loss: 0.1785, Running loss: 0.18744218453764916\n",
      "Epoch [1/1000], i: 400, Loss: 0.1526, Running loss: 0.15950467824935913\n"
     ]
    },
    {
     "data": {
      "image/png": "[encoded data removed]",
      "text/plain": [
       "<Figure size 800x200 with 4 Axes>"
      ]
     },
     "metadata": {},
     "output_type": "display_data"
    },
    {
     "name": "stdout",
     "output_type": "stream",
     "text": [
      "Epoch [2/1000], i: 0, Loss: 0.1226, Running loss: 0.09818533524870872\n",
      "Epoch [2/1000], i: 100, Loss: 0.1110, Running loss: 0.12907232120633125\n",
      "Epoch [2/1000], i: 200, Loss: 0.1038, Running loss: 0.1191976584494114\n",
      "Epoch [2/1000], i: 300, Loss: 0.1029, Running loss: 0.11041521981358528\n",
      "Epoch [2/1000], i: 400, Loss: 0.0974, Running loss: 0.10332089856266975\n",
      "Epoch [3/1000], i: 0, Loss: 0.0886, Running loss: 0.06666521117091179\n",
      "Epoch [3/1000], i: 100, Loss: 0.0868, Running loss: 0.09218344010412693\n",
      "Epoch [3/1000], i: 200, Loss: 0.0821, Running loss: 0.0851761582493782\n",
      "Epoch [3/1000], i: 300, Loss: 0.0827, Running loss: 0.08101918533444405\n",
      "Epoch [3/1000], i: 400, Loss: 0.0724, Running loss: 0.0771262489259243\n",
      "Epoch [4/1000], i: 0, Loss: 0.0834, Running loss: 0.05102299589663744\n",
      "Epoch [4/1000], i: 100, Loss: 0.0746, Running loss: 0.07068782400339842\n",
      "Epoch [4/1000], i: 200, Loss: 0.0749, Running loss: 0.06868029985576868\n",
      "Epoch [4/1000], i: 300, Loss: 0.0699, Running loss: 0.0659103986248374\n",
      "Epoch [4/1000], i: 400, Loss: 0.0585, Running loss: 0.06339669469743967\n",
      "Epoch [5/1000], i: 0, Loss: 0.0510, Running loss: 0.042474128678441046\n",
      "Epoch [5/1000], i: 100, Loss: 0.0634, Running loss: 0.06012036811560392\n",
      "Epoch [5/1000], i: 200, Loss: 0.0611, Running loss: 0.05881510265171528\n",
      "Epoch [5/1000], i: 300, Loss: 0.0603, Running loss: 0.05740290105342865\n",
      "Epoch [5/1000], i: 400, Loss: 0.0527, Running loss: 0.05548879291862249\n",
      "Epoch [6/1000], i: 0, Loss: 0.0546, Running loss: 0.037247645035386086\n",
      "Epoch [6/1000], i: 100, Loss: 0.0572, Running loss: 0.05396331712603569\n",
      "Epoch [6/1000], i: 200, Loss: 0.0498, Running loss: 0.05327445369213819\n",
      "Epoch [6/1000], i: 300, Loss: 0.0530, Running loss: 0.05201233778148889\n",
      "Epoch [6/1000], i: 400, Loss: 0.0572, Running loss: 0.05115858718752861\n"
     ]
    },
    {
     "data": {
      "image/png": "[encoded data removed]",
      "text/plain": [
       "<Figure size 800x200 with 4 Axes>"
      ]
     },
     "metadata": {},
     "output_type": "display_data"
    },
    {
     "name": "stdout",
     "output_type": "stream",
     "text": [
      "Epoch [7/1000], i: 0, Loss: 0.0517, Running loss: 0.034830374158918855\n",
      "Epoch [7/1000], i: 100, Loss: 0.0497, Running loss: 0.049514493383467195\n",
      "Epoch [7/1000], i: 200, Loss: 0.0511, Running loss: 0.04923527292907238\n",
      "Epoch [7/1000], i: 300, Loss: 0.0485, Running loss: 0.048422541618347165\n",
      "Epoch [7/1000], i: 400, Loss: 0.0472, Running loss: 0.047518138289451596\n",
      "Epoch [8/1000], i: 0, Loss: 0.0475, Running loss: 0.032857133746147155\n",
      "Epoch [8/1000], i: 100, Loss: 0.0422, Running loss: 0.047007990889251235\n",
      "Epoch [8/1000], i: 200, Loss: 0.0444, Running loss: 0.04669646829366684\n",
      "Epoch [8/1000], i: 300, Loss: 0.0422, Running loss: 0.04563029665499926\n",
      "Epoch [8/1000], i: 400, Loss: 0.0420, Running loss: 0.045703039392828944\n",
      "Epoch [9/1000], i: 0, Loss: 0.0414, Running loss: 0.031168155595660208\n",
      "Epoch [9/1000], i: 100, Loss: 0.0427, Running loss: 0.044346106387674805\n",
      "Epoch [9/1000], i: 200, Loss: 0.0397, Running loss: 0.044819296710193156\n",
      "Epoch [9/1000], i: 300, Loss: 0.0392, Running loss: 0.043888164050877095\n",
      "Epoch [9/1000], i: 400, Loss: 0.0433, Running loss: 0.043844262026250365\n",
      "Epoch [10/1000], i: 0, Loss: 0.0428, Running loss: 0.03019569244235754\n",
      "Epoch [10/1000], i: 100, Loss: 0.0419, Running loss: 0.04334040082991123\n",
      "Epoch [10/1000], i: 200, Loss: 0.0422, Running loss: 0.042843306250870225\n",
      "Epoch [10/1000], i: 300, Loss: 0.0428, Running loss: 0.04253254059702158\n",
      "Epoch [10/1000], i: 400, Loss: 0.0450, Running loss: 0.04323869854211807\n",
      "Epoch [11/1000], i: 0, Loss: 0.0438, Running loss: 0.02914076928049326\n",
      "Epoch [11/1000], i: 100, Loss: 0.0438, Running loss: 0.04157113272696734\n",
      "Epoch [11/1000], i: 200, Loss: 0.0397, Running loss: 0.04200291253626347\n",
      "Epoch [11/1000], i: 300, Loss: 0.0368, Running loss: 0.04179984051734209\n",
      "Epoch [11/1000], i: 400, Loss: 0.0405, Running loss: 0.040807181410491465\n"
     ]
    },
    {
     "data": {
      "image/png": "[encoded data removed]",
      "text/plain": [
       "<Figure size 800x200 with 4 Axes>"
      ]
     },
     "metadata": {},
     "output_type": "display_data"
    },
    {
     "name": "stdout",
     "output_type": "stream",
     "text": [
      "Epoch [12/1000], i: 0, Loss: 0.0395, Running loss: 0.02862539242953062\n",
      "Epoch [12/1000], i: 100, Loss: 0.0429, Running loss: 0.040770497135818005\n",
      "Epoch [12/1000], i: 200, Loss: 0.0393, Running loss: 0.04102761685848236\n",
      "Epoch [12/1000], i: 300, Loss: 0.0462, Running loss: 0.041186799369752405\n",
      "Epoch [12/1000], i: 400, Loss: 0.0454, Running loss: 0.04034853637218475\n",
      "Epoch [13/1000], i: 0, Loss: 0.0390, Running loss: 0.027958563677966595\n",
      "Epoch [13/1000], i: 100, Loss: 0.0409, Running loss: 0.038830115906894204\n",
      "Epoch [13/1000], i: 200, Loss: 0.0397, Running loss: 0.03918939042836428\n",
      "Epoch [13/1000], i: 300, Loss: 0.0398, Running loss: 0.03971851507201791\n",
      "Epoch [13/1000], i: 400, Loss: 0.0413, Running loss: 0.03954123850911856\n",
      "Epoch [14/1000], i: 0, Loss: 0.0348, Running loss: 0.027529326155781745\n",
      "Epoch [14/1000], i: 100, Loss: 0.0405, Running loss: 0.03923853699117899\n",
      "Epoch [14/1000], i: 200, Loss: 0.0385, Running loss: 0.03907211035490036\n",
      "Epoch [14/1000], i: 300, Loss: 0.0412, Running loss: 0.03932895187288523\n",
      "Epoch [14/1000], i: 400, Loss: 0.0352, Running loss: 0.0387487762235105\n",
      "Epoch [15/1000], i: 0, Loss: 0.0379, Running loss: 0.026327487826347352\n",
      "Epoch [15/1000], i: 100, Loss: 0.0409, Running loss: 0.03868345215916633\n",
      "Epoch [15/1000], i: 200, Loss: 0.0399, Running loss: 0.038028026930987835\n",
      "Epoch [15/1000], i: 300, Loss: 0.0364, Running loss: 0.03853414354845881\n",
      "Epoch [15/1000], i: 400, Loss: 0.0383, Running loss: 0.03852824358269572\n",
      "Epoch [16/1000], i: 0, Loss: 0.0387, Running loss: 0.026145199965685605\n",
      "Epoch [16/1000], i: 100, Loss: 0.0413, Running loss: 0.03775308266282082\n",
      "Epoch [16/1000], i: 200, Loss: 0.0407, Running loss: 0.03781811850145459\n",
      "Epoch [16/1000], i: 300, Loss: 0.0336, Running loss: 0.038203869443386794\n",
      "Epoch [16/1000], i: 400, Loss: 0.0397, Running loss: 0.03675611082464456\n"
     ]
    },
    {
     "data": {
      "image/png": "[encoded data removed]",
      "text/plain": [
       "<Figure size 800x200 with 4 Axes>"
      ]
     },
     "metadata": {},
     "output_type": "display_data"
    },
    {
     "name": "stdout",
     "output_type": "stream",
     "text": [
      "Epoch [17/1000], i: 0, Loss: 0.0406, Running loss: 0.025858400929719208\n",
      "Epoch [17/1000], i: 100, Loss: 0.0370, Running loss: 0.0376339815184474\n",
      "Epoch [17/1000], i: 200, Loss: 0.0369, Running loss: 0.0378344370238483\n",
      "Epoch [17/1000], i: 300, Loss: 0.0352, Running loss: 0.03717700377106667\n",
      "Epoch [17/1000], i: 400, Loss: 0.0362, Running loss: 0.03730457156896591\n",
      "Epoch [18/1000], i: 0, Loss: 0.0391, Running loss: 0.025879743993282318\n",
      "Epoch [18/1000], i: 100, Loss: 0.0349, Running loss: 0.036492374427616596\n",
      "Epoch [18/1000], i: 200, Loss: 0.0408, Running loss: 0.037333241757005454\n",
      "Epoch [18/1000], i: 300, Loss: 0.0387, Running loss: 0.03704164147377014\n",
      "Epoch [18/1000], i: 400, Loss: 0.0376, Running loss: 0.03693888271227479\n",
      "Epoch [19/1000], i: 0, Loss: 0.0358, Running loss: 0.02518702283501625\n",
      "Epoch [19/1000], i: 100, Loss: 0.0325, Running loss: 0.03653862627223134\n",
      "Epoch [19/1000], i: 200, Loss: 0.0325, Running loss: 0.03618220243602991\n",
      "Epoch [19/1000], i: 300, Loss: 0.0381, Running loss: 0.036966262757778166\n",
      "Epoch [19/1000], i: 400, Loss: 0.0334, Running loss: 0.03638724781572819\n",
      "Epoch [20/1000], i: 0, Loss: 0.0356, Running loss: 0.025466572754085065\n",
      "Epoch [20/1000], i: 100, Loss: 0.0343, Running loss: 0.036154534481465814\n",
      "Epoch [20/1000], i: 200, Loss: 0.0362, Running loss: 0.03642560420557857\n",
      "Epoch [20/1000], i: 300, Loss: 0.0372, Running loss: 0.036406199745833874\n"
     ]
    },
    {
     "ename": "KeyboardInterrupt",
     "evalue": "",
     "output_type": "error",
     "traceback": [
      "\u001b[0;31m---------------------------------------------------------------------------\u001b[0m",
      "\u001b[0;31mKeyboardInterrupt\u001b[0m                         Traceback (most recent call last)",
      "Cell \u001b[0;32mIn[32], line 1\u001b[0m\n\u001b[0;32m----> 1\u001b[0m \u001b[43mtrain\u001b[49m\u001b[43m(\u001b[49m\u001b[43mepochs\u001b[49m\u001b[43m)\u001b[49m\n",
      "Cell \u001b[0;32mIn[19], line 25\u001b[0m, in \u001b[0;36mtrain\u001b[0;34m(epochs)\u001b[0m\n\u001b[1;32m     22\u001b[0m predicted_noise \u001b[38;5;241m=\u001b[39m model(noisy_data, t, labels)\n\u001b[1;32m     23\u001b[0m loss \u001b[38;5;241m=\u001b[39m criterion(predicted_noise, noisy_data \u001b[38;5;241m-\u001b[39m data)\n\u001b[0;32m---> 25\u001b[0m \u001b[43mloss\u001b[49m\u001b[38;5;241;43m.\u001b[39;49m\u001b[43mbackward\u001b[49m\u001b[43m(\u001b[49m\u001b[43m)\u001b[49m\n\u001b[1;32m     26\u001b[0m optimizer\u001b[38;5;241m.\u001b[39mstep()\n\u001b[1;32m     28\u001b[0m running_loss \u001b[38;5;241m+\u001b[39m\u001b[38;5;241m=\u001b[39m loss\u001b[38;5;241m.\u001b[39mitem()\n",
      "File \u001b[0;32m~/opt/anaconda3/envs/pyautogen/lib/python3.10/site-packages/torch/_tensor.py:522\u001b[0m, in \u001b[0;36mTensor.backward\u001b[0;34m(self, gradient, retain_graph, create_graph, inputs)\u001b[0m\n\u001b[1;32m    512\u001b[0m \u001b[38;5;28;01mif\u001b[39;00m has_torch_function_unary(\u001b[38;5;28mself\u001b[39m):\n\u001b[1;32m    513\u001b[0m     \u001b[38;5;28;01mreturn\u001b[39;00m handle_torch_function(\n\u001b[1;32m    514\u001b[0m         Tensor\u001b[38;5;241m.\u001b[39mbackward,\n\u001b[1;32m    515\u001b[0m         (\u001b[38;5;28mself\u001b[39m,),\n\u001b[0;32m   (...)\u001b[0m\n\u001b[1;32m    520\u001b[0m         inputs\u001b[38;5;241m=\u001b[39minputs,\n\u001b[1;32m    521\u001b[0m     )\n\u001b[0;32m--> 522\u001b[0m \u001b[43mtorch\u001b[49m\u001b[38;5;241;43m.\u001b[39;49m\u001b[43mautograd\u001b[49m\u001b[38;5;241;43m.\u001b[39;49m\u001b[43mbackward\u001b[49m\u001b[43m(\u001b[49m\n\u001b[1;32m    523\u001b[0m \u001b[43m    \u001b[49m\u001b[38;5;28;43mself\u001b[39;49m\u001b[43m,\u001b[49m\u001b[43m \u001b[49m\u001b[43mgradient\u001b[49m\u001b[43m,\u001b[49m\u001b[43m \u001b[49m\u001b[43mretain_graph\u001b[49m\u001b[43m,\u001b[49m\u001b[43m \u001b[49m\u001b[43mcreate_graph\u001b[49m\u001b[43m,\u001b[49m\u001b[43m \u001b[49m\u001b[43minputs\u001b[49m\u001b[38;5;241;43m=\u001b[39;49m\u001b[43minputs\u001b[49m\n\u001b[1;32m    524\u001b[0m \u001b[43m\u001b[49m\u001b[43m)\u001b[49m\n",
      "File \u001b[0;32m~/opt/anaconda3/envs/pyautogen/lib/python3.10/site-packages/torch/autograd/__init__.py:266\u001b[0m, in \u001b[0;36mbackward\u001b[0;34m(tensors, grad_tensors, retain_graph, create_graph, grad_variables, inputs)\u001b[0m\n\u001b[1;32m    261\u001b[0m     retain_graph \u001b[38;5;241m=\u001b[39m create_graph\n\u001b[1;32m    263\u001b[0m \u001b[38;5;66;03m# The reason we repeat the same comment below is that\u001b[39;00m\n\u001b[1;32m    264\u001b[0m \u001b[38;5;66;03m# some Python versions print out the first line of a multi-line function\u001b[39;00m\n\u001b[1;32m    265\u001b[0m \u001b[38;5;66;03m# calls in the traceback and some print out the last line\u001b[39;00m\n\u001b[0;32m--> 266\u001b[0m \u001b[43mVariable\u001b[49m\u001b[38;5;241;43m.\u001b[39;49m\u001b[43m_execution_engine\u001b[49m\u001b[38;5;241;43m.\u001b[39;49m\u001b[43mrun_backward\u001b[49m\u001b[43m(\u001b[49m\u001b[43m  \u001b[49m\u001b[38;5;66;43;03m# Calls into the C++ engine to run the backward pass\u001b[39;49;00m\n\u001b[1;32m    267\u001b[0m \u001b[43m    \u001b[49m\u001b[43mtensors\u001b[49m\u001b[43m,\u001b[49m\n\u001b[1;32m    268\u001b[0m \u001b[43m    \u001b[49m\u001b[43mgrad_tensors_\u001b[49m\u001b[43m,\u001b[49m\n\u001b[1;32m    269\u001b[0m \u001b[43m    \u001b[49m\u001b[43mretain_graph\u001b[49m\u001b[43m,\u001b[49m\n\u001b[1;32m    270\u001b[0m \u001b[43m    \u001b[49m\u001b[43mcreate_graph\u001b[49m\u001b[43m,\u001b[49m\n\u001b[1;32m    271\u001b[0m \u001b[43m    \u001b[49m\u001b[43minputs\u001b[49m\u001b[43m,\u001b[49m\n\u001b[1;32m    272\u001b[0m \u001b[43m    \u001b[49m\u001b[43mallow_unreachable\u001b[49m\u001b[38;5;241;43m=\u001b[39;49m\u001b[38;5;28;43;01mTrue\u001b[39;49;00m\u001b[43m,\u001b[49m\n\u001b[1;32m    273\u001b[0m \u001b[43m    \u001b[49m\u001b[43maccumulate_grad\u001b[49m\u001b[38;5;241;43m=\u001b[39;49m\u001b[38;5;28;43;01mTrue\u001b[39;49;00m\u001b[43m,\u001b[49m\n\u001b[1;32m    274\u001b[0m \u001b[43m\u001b[49m\u001b[43m)\u001b[49m\n",
      "\u001b[0;31mKeyboardInterrupt\u001b[0m: "
     ]
    }
   ],
   "source": [
    "train(epochs)"
   ]
  },
  {
   "cell_type": "code",
   "execution_count": 33,
   "id": "05af7183-82a1-486a-a103-8be679cb1add",
   "metadata": {},
   "outputs": [
    {
     "data": {
      "text/html": [
       "<style>\n",
       "    table.wandb td:nth-child(1) { padding: 0 10px; text-align: left ; width: auto;} td:nth-child(2) {text-align: left ; width: 100%}\n",
       "    .wandb-row { display: flex; flex-direction: row; flex-wrap: wrap; justify-content: flex-start; width: 100% }\n",
       "    .wandb-col { display: flex; flex-direction: column; flex-basis: 100%; flex: 1; padding: 10px; }\n",
       "    </style>\n",
       "<div class=\"wandb-row\"><div class=\"wandb-col\"><h3>Run history:</h3><br/><table class=\"wandb\"><tr><td>avg_running_loss</td><td>▁█▄▄▃▃▂▃▂▃▂▂▂▂▂▂▂▂▂▂▂▂▂▂▂▂▂▂▂▂▂▂▂▂▂▂▂▂▂▂</td></tr><tr><td>latest_loss</td><td>█▃▂▂▂▂▂▂▁▁▁▁▁▁▁▁▁▁▁▁▁▁▁▁▁▁▁▁▁▁▁▁▁▁▁▁▁▁▁▁</td></tr></table><br/></div><div class=\"wandb-col\"><h3>Run summary:</h3><br/><table class=\"wandb\"><tr><td>avg_running_loss</td><td>0.03641</td></tr><tr><td>latest_loss</td><td>0.03718</td></tr></table><br/></div></div>"
      ],
      "text/plain": [
       "<IPython.core.display.HTML object>"
      ]
     },
     "metadata": {},
     "output_type": "display_data"
    },
    {
     "data": {
      "text/html": [
       " View run <strong style=\"color:#cdcd00\">amber-snowflake-3</strong> at: <a href='https://wandb.ai/invertedpassion/diffusion-with-unet/runs/hp3vjzci' target=\"_blank\">https://wandb.ai/invertedpassion/diffusion-with-unet/runs/hp3vjzci</a><br/> View project at: <a href='https://wandb.ai/invertedpassion/diffusion-with-unet' target=\"_blank\">https://wandb.ai/invertedpassion/diffusion-with-unet</a><br/>Synced 6 W&B file(s), 0 media file(s), 0 artifact file(s) and 0 other file(s)"
      ],
      "text/plain": [
       "<IPython.core.display.HTML object>"
      ]
     },
     "metadata": {},
     "output_type": "display_data"
    },
    {
     "data": {
      "text/html": [
       "Find logs at: <code>./wandb/run-20240613_142516-hp3vjzci/logs</code>"
      ],
      "text/plain": [
       "<IPython.core.display.HTML object>"
      ]
     },
     "metadata": {},
     "output_type": "display_data"
    }
   ],
   "source": [
    "wandb.finish()"
   ]
  },
  {
   "cell_type": "code",
   "execution_count": null,
   "id": "beed9b64-68b5-4493-907d-2e2ded47ea45",
   "metadata": {},
   "outputs": [],
   "source": []
  }
 ],
 "metadata": {
  "kernelspec": {
   "display_name": "Python 3 (ipykernel)",
   "language": "python",
   "name": "python3"
  },
  "language_info": {
   "codemirror_mode": {
    "name": "ipython",
    "version": 3
   },
   "file_extension": ".py",
   "mimetype": "text/x-python",
   "name": "python",
   "nbconvert_exporter": "python",
   "pygments_lexer": "ipython3",
   "version": "3.10.14"
  }
 },
 "nbformat": 4,
 "nbformat_minor": 5
}
